{
 "cells": [
  {
   "cell_type": "markdown",
   "metadata": {},
   "source": [
    "## Intro to Langchain 🦜🔗‍"
   ]
  },
  {
   "cell_type": "markdown",
   "metadata": {},
   "source": [
    "Now you've seen how some of these Transformer-based models work, it's time to leverage the full power of these models when put together. "
   ]
  },
  {
   "cell_type": "markdown",
   "metadata": {},
   "source": [
    "To do this challenge, you'll need an OpenAI API key which you can get from this [link](https://openai.com/blog/openai-api). You'll get a free trial with 5 dollars of credit when you set up your account, which may not seem like much but $5 can grant us a LOT of API calls. If you're worried about being charged for anything, make sure you set up a usage limit on your account! We're going to be using a LLM (pre-trained by OpenAI) inside a LangChain application. \n",
    "\n",
    "### What is LangChain?"
   ]
  },
  {
   "cell_type": "markdown",
   "metadata": {},
   "source": [
    "LangChain is a framework for developing applications powered by language models. It enables applications that are:\n",
    "\n",
    "Data-aware: i.e. you can connect a language model to other sources of data <br> \n",
    "\n",
    "Agentic: allow a language model to interact with its environment\n",
    "\n",
    "Langchain allows you to work with powerful LLM models (like OpenAI's, for example), and provides helpful pre-defined workflows for many different tasks. Components are modular and easy-to-use, whether you are using the rest of the LangChain framework or not.\n",
    "\n",
    "A lot of the tasks you might want to do with Langchain are provided with off-the-shelf chains which make it really easy to get started. For more complex applications and nuanced use-cases, components make it easy to customize existing chains or build your own new ones."
   ]
  },
  {
   "cell_type": "markdown",
   "metadata": {},
   "source": [
    "## The Challenge"
   ]
  },
  {
   "cell_type": "markdown",
   "metadata": {},
   "source": [
    "Your goal over the course of this challenge is to create a simple app that does Question Answering with a Retriever through Langchain.\n",
    "\n",
    "You will create a Python file named `app.py` which will behave as follows:\n",
    "\n",
    "When you run `python app <location of file>` your app should output a score out of 10 as to how good your coded solution was.\n",
    "\n",
    "For example, running `python app \"../../../01-Python/03-SQL-Basics/04-Interacting-With-Code/queries.py\"` might yield:\n",
    "\n",
    "`The code is a 6/10. Improvements that can be made include adding a docstring to the functions, using more descriptive variable names, and formatting the code better for improved readability`"
   ]
  }
 ],
 "metadata": {
  "kernelspec": {
   "display_name": "Python 3",
   "language": "python",
   "name": "python3"
  }
 },
 "nbformat": 4,
 "nbformat_minor": 5
}
